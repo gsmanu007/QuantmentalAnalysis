{
 "cells": [
  {
   "cell_type": "code",
   "execution_count": 2,
   "id": "8619d6b4",
   "metadata": {},
   "outputs": [
    {
     "name": "stdout",
     "output_type": "stream",
     "text": [
      "Collecting sec-edgar-downloader\n",
      "  Downloading sec_edgar_downloader-5.0.2-py3-none-any.whl (14 kB)\n",
      "Requirement already satisfied: requests in c:\\users\\gsman\\anaconda3\\lib\\site-packages (from sec-edgar-downloader) (2.28.1)\n",
      "Collecting pyrate-limiter>=3.1.0\n",
      "  Downloading pyrate_limiter-3.6.1-py3-none-any.whl (26 kB)\n",
      "Requirement already satisfied: urllib3<1.27,>=1.21.1 in c:\\users\\gsman\\anaconda3\\lib\\site-packages (from requests->sec-edgar-downloader) (1.26.11)\n",
      "Requirement already satisfied: certifi>=2017.4.17 in c:\\users\\gsman\\anaconda3\\lib\\site-packages (from requests->sec-edgar-downloader) (2022.9.14)\n",
      "Requirement already satisfied: charset-normalizer<3,>=2 in c:\\users\\gsman\\anaconda3\\lib\\site-packages (from requests->sec-edgar-downloader) (2.0.4)\n",
      "Requirement already satisfied: idna<4,>=2.5 in c:\\users\\gsman\\anaconda3\\lib\\site-packages (from requests->sec-edgar-downloader) (3.3)\n",
      "Installing collected packages: pyrate-limiter, sec-edgar-downloader\n",
      "Successfully installed pyrate-limiter-3.6.1 sec-edgar-downloader-5.0.2\n"
     ]
    }
   ],
   "source": [
    "!pip install -U sec-edgar-downloader"
   ]
  },
  {
   "cell_type": "code",
   "execution_count": 56,
   "id": "c71c11fe",
   "metadata": {},
   "outputs": [],
   "source": [
    "from Documents.SideProjects.SummerProject.edgar_crawler_main.edgar_crawler_main import *"
   ]
  },
  {
   "cell_type": "markdown",
   "id": "c8de8f50",
   "metadata": {},
   "source": [
    "### Downloading the data"
   ]
  },
  {
   "cell_type": "code",
   "execution_count": 63,
   "id": "8cfc3e6c",
   "metadata": {},
   "outputs": [],
   "source": [
    "### Imports\n",
    "from sec_edgar_downloader import Downloader"
   ]
  },
  {
   "cell_type": "code",
   "execution_count": 16,
   "id": "5877375b",
   "metadata": {},
   "outputs": [],
   "source": [
    "### variables\n",
    "path_to_save     = \"C:\\\\Users\\\\gsman\\\\Documents\\\\SideProjects\\\\SummerProject\"\n",
    "personal_details = (\"Georgia Instiutute of Technology\", \"gurjot.singh@gatech.edu\")\n",
    "target_companies = [\"AAPL\", \"MSFT\", \"AMZN\"]"
   ]
  },
  {
   "cell_type": "code",
   "execution_count": 17,
   "id": "c056dd35",
   "metadata": {},
   "outputs": [],
   "source": [
    "downloader = Downloader(personal_details[0], personal_details[1], path_to_save)\n",
    "for ticker in target_companies:\n",
    "    downloader.get(\"10-K\", ticker, download_details=False)"
   ]
  },
  {
   "cell_type": "markdown",
   "id": "0693160a",
   "metadata": {},
   "source": [
    "### Clean and process the data"
   ]
  },
  {
   "cell_type": "markdown",
   "id": "0a0f39d5",
   "metadata": {},
   "source": [
    "Using the Edgar Crawler library for important tags: https://github.com/nlpaueb/edgar-crawler/tree/main"
   ]
  },
  {
   "cell_type": "code",
   "execution_count": null,
   "id": "54fdd76b",
   "metadata": {},
   "outputs": [],
   "source": []
  },
  {
   "cell_type": "code",
   "execution_count": null,
   "id": "0b32d38f",
   "metadata": {},
   "outputs": [],
   "source": []
  }
 ],
 "metadata": {
  "kernelspec": {
   "display_name": "Python 3 (ipykernel)",
   "language": "python",
   "name": "python3"
  },
  "language_info": {
   "codemirror_mode": {
    "name": "ipython",
    "version": 3
   },
   "file_extension": ".py",
   "mimetype": "text/x-python",
   "name": "python",
   "nbconvert_exporter": "python",
   "pygments_lexer": "ipython3",
   "version": "3.9.13"
  }
 },
 "nbformat": 4,
 "nbformat_minor": 5
}
